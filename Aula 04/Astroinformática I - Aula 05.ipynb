{
 "cells": [
  {
   "cell_type": "markdown",
   "metadata": {},
   "source": [
    "# Astroinformática I - Aula 05\n",
    "\n",
    "## Assunto coberto: manipulação de arquivos FITS com tabelas"
   ]
  },
  {
   "cell_type": "code",
   "execution_count": 91,
   "metadata": {
    "collapsed": false,
    "scrolled": false
   },
   "outputs": [
    {
     "name": "stdout",
     "output_type": "stream",
     "text": [
      "Filename: tabela.fits\n",
      "No.    Name         Type      Cards   Dimensions   Format\n",
      "0    PRIMARY     PrimaryHDU       7   ()              \n",
      "1    PLN         TableHDU       105   1455R x 16C   ['A9', 'I2', 'F5.2', 'A1', 'I2', 'F4.1', 'A1', 'F4.1', 'A1', 'I3', 'I4', 'A1', 'F4.1', 'A1', 'A1', 'I2']   \n"
     ]
    },
    {
     "name": "stderr",
     "output_type": "stream",
     "text": [
      "c:\\Anaconda3\\lib\\site-packages\\pyfits\\header.py:538: UserWarning: Header block contains null bytes instead of spaces for padding, and is not FITS-compliant. Nulls may be replaced with spaces upon writing.\n",
      "  'Header block contains null bytes instead of spaces for '\n"
     ]
    }
   ],
   "source": [
    "import pyfits\n",
    "hdulist = pyfits.open(\"tabela.fits\")\n",
    "tbdata = hdulist[1].data\n",
    "hdulist.info()"
   ]
  },
  {
   "cell_type": "code",
   "execution_count": 92,
   "metadata": {
    "collapsed": false,
    "scrolled": false
   },
   "outputs": [
    {
     "data": {
      "text/plain": [
       "['PK',\n",
       " 'RAH',\n",
       " 'RAM',\n",
       " 'DecSign',\n",
       " 'DecD',\n",
       " 'DecM',\n",
       " 'V_Limit',\n",
       " 'V',\n",
       " 'Morph_Flag',\n",
       " 'Diam',\n",
       " 'RadVel',\n",
       " 'StarMag_Limit',\n",
       " 'StarMag',\n",
       " 'Var_Flag',\n",
       " 'ExpVel_Limit',\n",
       " 'ExpVel']"
      ]
     },
     "execution_count": 92,
     "metadata": {},
     "output_type": "execute_result"
    }
   ],
   "source": [
    "cols = hdulist[1].columns\n",
    "cols.names"
   ]
  },
  {
   "cell_type": "code",
   "execution_count": 93,
   "metadata": {
    "collapsed": false
   },
   "outputs": [
    {
     "data": {
      "text/plain": [
       "array([  0.        ,  19.89999962,  11.60000038, ...,   0.        ,\n",
       "        21.        ,  20.        ], dtype=float32)"
      ]
     },
     "execution_count": 93,
     "metadata": {},
     "output_type": "execute_result"
    }
   ],
   "source": [
    "tbdata['StarMag']\n",
    "\n",
    "#ou \n",
    "\n",
    "#list(tbdata['Starmag'])\n",
    "\n",
    "#d = hdulsit[1].data\n",
    "#d['Starmag']\n",
    "\n",
    "#tbdata['StarMag'].mean()\n"
   ]
  },
  {
   "cell_type": "code",
   "execution_count": 94,
   "metadata": {
    "collapsed": false
   },
   "outputs": [
    {
     "data": {
      "text/plain": [
       "array(['118+ 2.1 ', '119+ 6.1 ', '120+ 9.1 ', ..., '116+ 0.1 ',\n",
       "       '118+ 8.1 ', '118+ 8.2 '], \n",
       "      dtype='<U9')"
      ]
     },
     "execution_count": 94,
     "metadata": {},
     "output_type": "execute_result"
    }
   ],
   "source": [
    "tbdata.field('PK')"
   ]
  },
  {
   "cell_type": "markdown",
   "metadata": {},
   "source": [
    "<h1> Para acha valor minimo, maximo, desvio padrão, Média"
   ]
  },
  {
   "cell_type": "code",
   "execution_count": 107,
   "metadata": {
    "collapsed": false
   },
   "outputs": [
    {
     "name": "stdout",
     "output_type": "stream",
     "text": [
      "Valor Minimo = 0.0\n",
      "Valor Máximo = 21.0\n",
      "Media = 2.791752576828003\n",
      "Desvio Padrão = 6.321709156036377\n"
     ]
    }
   ],
   "source": [
    "#tbdata['StarMag'].max()  # <--- Valor minimo\n",
    "#tbdata['StarMag'].min() # <--- Valor minimo\n",
    "#tbdata['StarMag'].std() # <--- Desvio Padrão\n",
    "#tbdata['StarMag'].mean() # <--- Media\n",
    "\n",
    "sm = tbdata['Starmag']\n",
    "\n",
    "print('Valor Minimo = {}'.format(sm.min())) #min está verde porque é uma função padrão do python e ele não sabe se pega do python ou do impor\n",
    "print('Valor Máximo = {}'.format(sm.max()))\n",
    "print('Media = {}'.format(sm.mean()))\n",
    "print('Desvio Padrão = {}'.format(sm.std()))"
   ]
  },
  {
   "cell_type": "markdown",
   "metadata": {},
   "source": [
    "<h1> Aumentando os valores do StarMag em 10%"
   ]
  },
  {
   "cell_type": "code",
   "execution_count": 117,
   "metadata": {
    "collapsed": false
   },
   "outputs": [
    {
     "name": "stdout",
     "output_type": "stream",
     "text": [
      "Valor Minimo = 0.0\n",
      "Valor Máximo = 23.100000381469727\n",
      "Media = 3.070927619934082\n",
      "Desvio Padrão = 6.9538798332214355\n"
     ]
    }
   ],
   "source": [
    "d = tbdata['Starmag']\n",
    "d*= 1.1\n",
    "\n",
    "\n",
    "print('Valor Minimo = {}'.format(scc.min())) #min está verde porque é uma função padrão do python e ele não sabe se pega do python ou do impor\n",
    "print('Valor Máximo = {}'.format(scc.max()))\n",
    "print('Media = {}'.format(scc.mean()))\n",
    "print('Desvio Padrão = {}'.format(scc.std()))"
   ]
  },
  {
   "cell_type": "markdown",
   "metadata": {},
   "source": [
    "<h1>Gravar os resultados em tabelaC.fits"
   ]
  },
  {
   "cell_type": "code",
   "execution_count": 118,
   "metadata": {
    "collapsed": false
   },
   "outputs": [
    {
     "name": "stderr",
     "output_type": "stream",
     "text": [
      "c:\\Anaconda3\\lib\\site-packages\\pyfits\\util.py:606: UserWarning: Could not find appropriate MS Visual C Runtime library or library is corrupt/misconfigured; cannot determine whether your file object was opened in append mode.  Please consider using a file object opened in write mode instead.\n",
      "  'Could not find appropriate MS Visual C Runtime '\n"
     ]
    }
   ],
   "source": [
    "hdulist.writeto('tabelaC.fits')  #<--- Esse é mais seguro pois mantem o original\n",
    "\n",
    "\n",
    "#f = pyfits.open('original.fits,mode='update)\n",
    "#f.flush()\n",
    "#f.close()"
   ]
  },
  {
   "cell_type": "code",
   "execution_count": 119,
   "metadata": {
    "collapsed": true
   },
   "outputs": [],
   "source": [
    "hdulist.close()"
   ]
  }
 ],
 "metadata": {
  "kernelspec": {
   "display_name": "Python [Root]",
   "language": "python",
   "name": "Python [Root]"
  },
  "language_info": {
   "codemirror_mode": {
    "name": "ipython",
    "version": 3
   },
   "file_extension": ".py",
   "mimetype": "text/x-python",
   "name": "python",
   "nbconvert_exporter": "python",
   "pygments_lexer": "ipython3",
   "version": "3.5.2"
  }
 },
 "nbformat": 4,
 "nbformat_minor": 0
}
