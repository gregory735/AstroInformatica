{
 "cells": [
  {
   "cell_type": "code",
   "execution_count": 1,
   "metadata": {
    "collapsed": false
   },
   "outputs": [
    {
     "name": "stdout",
     "output_type": "stream",
     "text": [
      "Filename: tabelaC.fits\n",
      "No.    Name         Type      Cards   Dimensions   Format\n",
      "0    PRIMARY     PrimaryHDU       7   ()              \n",
      "1    PLN         TableHDU       105   1455R x 16C   ['A9', 'I2', 'F5.2', 'A1', 'I2', 'F4.1', 'A1', 'F4.1', 'A1', 'I3', 'I4', 'A1', 'F4.1', 'A1', 'A1', 'I2']   \n"
     ]
    }
   ],
   "source": [
    "import pyfits\n",
    "hdulist = pyfits.open(\"tabelaC.fits\")\n",
    "tbdata = hdulist[1].data\n",
    "hdulist.info()"
   ]
  },
  {
   "cell_type": "code",
   "execution_count": 11,
   "metadata": {
    "collapsed": false
   },
   "outputs": [
    {
     "data": {
      "text/plain": [
       "array([  0.        ,  21.89999962,  12.80000019, ...,   0.        ,\n",
       "        23.10000038,  22.        ], dtype=float32)"
      ]
     },
     "execution_count": 11,
     "metadata": {},
     "output_type": "execute_result"
    }
   ],
   "source": [
    "tbdata['StarMag']\n"
   ]
  },
  {
   "cell_type": "code",
   "execution_count": 8,
   "metadata": {
    "collapsed": false
   },
   "outputs": [
    {
     "name": "stdout",
     "output_type": "stream",
     "text": [
      "Valor Minimo = 0.0\n",
      "Valor Máximo = 23.100000381469727\n",
      "Media = 3.0712027549743652\n",
      "Desvio Padrão = 6.954015731811523\n"
     ]
    }
   ],
   "source": [
    "sm = tbdata['Starmag']\n",
    "print('Valor Minimo = {}'.format(sm.min())) #min está verde porque é uma função padrão do python e ele não sabe se pega do python ou do impor\n",
    "print('Valor Máximo = {}'.format(sm.max()))\n",
    "print('Media = {}'.format(sm.mean()))\n",
    "print('Desvio Padrão = {}'.format(sm.std()))"
   ]
  },
  {
   "cell_type": "code",
   "execution_count": 6,
   "metadata": {
    "collapsed": true
   },
   "outputs": [],
   "source": [
    "hdulist.close()"
   ]
  }
 ],
 "metadata": {
  "kernelspec": {
   "display_name": "Python [Root]",
   "language": "python",
   "name": "Python [Root]"
  },
  "language_info": {
   "codemirror_mode": {
    "name": "ipython",
    "version": 3
   },
   "file_extension": ".py",
   "mimetype": "text/x-python",
   "name": "python",
   "nbconvert_exporter": "python",
   "pygments_lexer": "ipython3",
   "version": "3.5.2"
  }
 },
 "nbformat": 4,
 "nbformat_minor": 0
}
