{
 "cells": [
  {
   "cell_type": "markdown",
   "metadata": {},
   "source": [
    "# Astroinformática I - Aula 02"
   ]
  },
  {
   "cell_type": "markdown",
   "metadata": {},
   "source": [
    "## Assuntos cobertos: \n",
    "\n",
    "### Leitura e exibição de variáveis, comandos condicionais, comandos de repetição, funções e contagem de tempo"
   ]
  },
  {
   "cell_type": "markdown",
   "metadata": {},
   "source": [
    "## Leitura de Variáveis"
   ]
  },
  {
   "cell_type": "code",
   "execution_count": null,
   "metadata": {
    "collapsed": false
   },
   "outputs": [],
   "source": [
    "x=float(input(\"1st Number:\"))\n",
    "y=float(input(\"2st Number:\"))\n",
    "z=float(input(\"3st Number:\"))"
   ]
  },
  {
   "cell_type": "code",
   "execution_count": null,
   "metadata": {
    "collapsed": false
   },
   "outputs": [],
   "source": [
    "print(x+y+z)"
   ]
  },
  {
   "cell_type": "markdown",
   "metadata": {},
   "source": [
    "## Comando Condicional - if - elif - else"
   ]
  },
  {
   "cell_type": "code",
   "execution_count": null,
   "metadata": {
    "collapsed": false,
    "scrolled": true
   },
   "outputs": [],
   "source": [
    "x=float(input(\"1st Number:\"))\n",
    "y=float(input(\"2st Number:\"))\n",
    "z=float(input(\"3st Number:\"))\n",
    "if x>z and x>z:\n",
    "    maximum=x\n",
    "elif y > x and y>z:\n",
    "    maximum=y\n",
    "else:\n",
    "    maximum=z\n",
    "print (\"The maximal value is:\"+str(maximum))"
   ]
  },
  {
   "cell_type": "markdown",
   "metadata": {},
   "source": [
    "## Comando de Repetição - while"
   ]
  },
  {
   "cell_type": "code",
   "execution_count": null,
   "metadata": {
    "collapsed": false
   },
   "outputs": [],
   "source": [
    "n=100\n",
    "sum=0\n",
    "counter=1\n",
    "while counter<=n:\n",
    "    sum=sum+counter\n",
    "    counter+=1\n",
    "print(\"Sum of 1 until %d: %d\" % (n,sum))\n",
    "print(\"Sum of 1 until %f: %f\" % (n,sum))\n"
   ]
  },
  {
   "cell_type": "markdown",
   "metadata": {},
   "source": [
    "## Comando de Repetição - for"
   ]
  },
  {
   "cell_type": "code",
   "execution_count": null,
   "metadata": {
    "collapsed": false
   },
   "outputs": [],
   "source": [
    "n=100\n",
    "sum=0\n",
    "for counter in range(1,n+1):\n",
    "    sum=sum+counter\n",
    "print(\"Sum of 1 until %d: %d\" % (n,sum))"
   ]
  },
  {
   "cell_type": "code",
   "execution_count": null,
   "metadata": {
    "collapsed": false
   },
   "outputs": [],
   "source": [
    "% Mesmo que o anterior mas com início, fim e passo\n",
    "n=100\n",
    "sum=0\n",
    "for counter in range(1,101,1):\n",
    "    sum=sum+counter\n",
    "print(\"Sum of 1 until %d: %d\" % (n,sum))"
   ]
  },
  {
   "cell_type": "markdown",
   "metadata": {},
   "source": [
    "## Exercício 1\n",
    "Calcular a raiz quadrada de 612 pelo Método de Newton utilizando comandos de repetição"
   ]
  },
  {
   "cell_type": "markdown",
   "metadata": {
    "collapsed": true
   },
   "source": [
    "$x_{n+1}=x_n-\\frac{f_{x_n}{f^(x_n)}}$"
   ]
  },
  {
   "cell_type": "code",
   "execution_count": null,
   "metadata": {
    "collapsed": false
   },
   "outputs": [],
   "source": [
    "xa=26 #chute\n",
    "xn=xa-(xa**2-625)/(2*xa)\n",
    "erro=1E-5\n",
    "while abs(xn-xa)>erro:\n",
    "    xa=xn\n",
    "    xn=xa-(xa**2-625)/(2*xa)\n",
    "print (xn)"
   ]
  },
  {
   "cell_type": "markdown",
   "metadata": {},
   "source": [
    "## Funções em Python"
   ]
  },
  {
   "cell_type": "code",
   "execution_count": null,
   "metadata": {
    "collapsed": false,
    "scrolled": true
   },
   "outputs": [],
   "source": [
    "def fahrenheit(T_in_celsius):\n",
    "    # returns the temperature in degrees Fahrenheit\n",
    "    return (T_in_celsius*9/5)+32\n",
    "\n",
    "for t in (22.6, 25.8, 27.3, 29.8):\n",
    "    print (t,\": \",fahrenheit(t))"
   ]
  },
  {
   "cell_type": "markdown",
   "metadata": {},
   "source": [
    "## Exercício 2\n",
    "Calcular a raiz quadrada de 612 pelo Método de Newton utilizando comandos de repetição e funções"
   ]
  },
  {
   "cell_type": "code",
   "execution_count": null,
   "metadata": {
    "collapsed": false
   },
   "outputs": [],
   "source": [
    "def f(x):\n",
    "    return x*x-625\n",
    "def derivada(x):\n",
    "    return 2*x\n",
    "\n",
    "xa=26 #chute\n",
    "xn=xa-f(xa)/derivada(xa)\n",
    "erro=1E-5\n",
    "while abs(xn-xa)>erro:\n",
    "    xa=xn\n",
    "    xn=xa-f(xa)/derivada(xa)\n",
    "print (xn)"
   ]
  },
  {
   "cell_type": "markdown",
   "metadata": {},
   "source": [
    "## Contagem de tempo de execução"
   ]
  },
  {
   "cell_type": "code",
   "execution_count": null,
   "metadata": {
    "collapsed": false
   },
   "outputs": [],
   "source": [
    "import time\n",
    "\n",
    "start=time.time()\n",
    "# run your code\n",
    "xa=26 #chute\n",
    "xn=xa-f(xa)/derivada(xa)\n",
    "erro=1E-5\n",
    "while abs(xn-xa)>erro:\n",
    "    xa=xn\n",
    "    xn=xa-f(xa)/derivada(xa)\n",
    "print (xn)\n",
    "end = time.time()\n",
    "\n",
    "elapsed=end-start\n",
    "print(elapsed)"
   ]
  }
 ],
 "metadata": {
  "kernelspec": {
   "display_name": "Python 3",
   "language": "python",
   "name": "python3"
  },
  "language_info": {
   "codemirror_mode": {
    "name": "ipython",
    "version": 3
   },
   "file_extension": ".py",
   "mimetype": "text/x-python",
   "name": "python",
   "nbconvert_exporter": "python",
   "pygments_lexer": "ipython3",
   "version": "3.5.1"
  }
 },
 "nbformat": 4,
 "nbformat_minor": 0
}
